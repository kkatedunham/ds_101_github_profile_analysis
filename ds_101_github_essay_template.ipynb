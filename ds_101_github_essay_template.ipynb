{
 "cells": [
  {
   "cell_type": "markdown",
   "id": "7cd586f9",
   "metadata": {},
   "source": [
    "# Title: The Balance of Creativity and Professionalism in GitHub Profiles\n",
    "## Names: Abbey Dockum, Kate Dunham, Elijah Harfst, Angeline Jackson\n",
    "### Date: 09/26/2025"
   ]
  },
  {
   "cell_type": "markdown",
   "id": "85f432db",
   "metadata": {},
   "source": [
    "## Introduction\n",
    "Our data modeling project looks at student’s expression of creativity and professionalism through their GitHub profile. We analyzed a small dataset of JMU students in our foundational digital studies course. Our group collected data on student’s majors, pronoun usage, professional headshots, and emoji usage. We wanted to answer the question of how do students balance their creativity and professionalism when expressed through online platforms. We felt that emoji usage was a way for students to express their creativity, while still looking professional, so we focused on this data as a representation of creativity. We determined what majors would be considered “creative”, based on their stereotype, and how it compares to emoji usage. We also determined what profile pictures would be considered “professional”, and how it compares to student graduation years."
   ]
  },
  {
   "cell_type": "markdown",
   "id": "7d807afa",
   "metadata": {},
   "source": [
    "## Theory\n",
    "Our theoretical model suggests that the way students present themselves on GitHub reflects both their personal creativity and their academic stage. For example, students with a creative major stereotype are more likely to express themselves through the use of emojis, and students who are closer to graduation tend to have a more professional profile, like having a headshot. When looking at these two attributes together, how do students balance their creativity and professionalism in an online media presence? Our theoretical question is; do students with creative majors tend to use more emojis in their GitHub profiles, and are students closer to graduation more likely to use professional headshots? This question is important because it helps us understand how students' majors and their graduation year affect how they show themselves online, mixing their creative side with a more professional look."
   ]
  },
  {
   "cell_type": "markdown",
   "id": "e16a484b",
   "metadata": {},
   "source": [
    "## Data Model\n",
    "The data model includes information that helps us look at where students are in school and their career path. \n",
    "\n",
    "Majors\n",
    "- **Attribute name:** major\n",
    "- **Attribute data type:** string type with a controlled vocabulary: [KIN, MKTG, POSC, SCOM, SMAD, not indicated]\n",
    "- **Attribute description:** this variable tells us if the student is in a creative field, which helps us see if they’re more likely to use emojis\n",
    "\n",
    "Graduation year \n",
    "- **Attribute name:** graduation year\n",
    "- **Attribute data type:** integer [2026, 2027, 2029, not indicated] \n",
    "- **Attribute description:** this variable shows how close the student is to graduating, which might affect the professionalism of their profile \n",
    "\n",
    "Emojis\n",
    "- **Attribute name:** number of emojis\n",
    "- **Attribute data type:** integer [1, 2, 3, 4, 5, 6, 7, 8, 9, 10, not indicated] \n",
    "- **Attribute description:** this variable tracks the number of emojis students use\n",
    "\n",
    "Profile picture \n",
    "- **Attribute name:** profile picture type\n",
    "- **Attribute data type:** string type with a controlled vocabulary: [headshot, casual, none] \n",
    "- **Attribute description:** this variable looks at the professionalism in students profile pictures\n",
    "\n",
    "\n"
   ]
  },
  {
   "cell_type": "markdown",
   "id": "95142573",
   "metadata": {},
   "source": [
    "## Analysis\n",
    "In our analysis, we are comparing two relationships: whether students who are closer to graduation are more likely to use a professional headshot, and whether students with creative majors (SMAD, SCOM, and MKTG) are more likely to use more emojis in their GitHub profile. We expect that students in creative fields are more likely to use emojis, and students nearing graduation are more likely to use a professional headshot. If the pattern holds, it could show us insight into how students prepare themselves on a digital platform as they enter the job market."
   ]
  },
  {
   "cell_type": "markdown",
   "id": "c41e709c",
   "metadata": {},
   "source": [
    "### Visualization 1 - Average Emoji Use by Major\n",
    "<img src=\"images/chart_one.png\" width=\"400\">\n",
    "\n",
    "**Analysis:** For our first chart, we looked at student’s majors and the number of emojis they used in their GitHub profile. We decided to not use any “null” data because it would be unnecessary. Instead of looking at each number of emojis used by each student, we only looked at the average number, so it wouldn’t be an information overload. We also decided to not include the one student with a Kinesiology major because their average number of emojis would not help our dataset. We shortened every major to its abbreviation so it would not be overwhelming. When determining whether “creative” majors used more emojis in their profile, we had to form an opinion to decide which majors would be considered creative. We decided that marketing (MKTG), communications (SCOM), and media arts and design (SMAD) majors would be considered creative, since their work focuses on design. Therefore, when looking at the chart, you can see that the creative majors, on average, used more emojis than the non-creative major, political science (POSC). \n"
   ]
  },
  {
   "cell_type": "markdown",
   "id": "1275b443",
   "metadata": {},
   "source": [
    "### Visualization 2 - Professional Headshot Usage by Graduation Year\n",
    "<img src=\"images/chart_two.png\" width=\"400\">\n",
    "\n",
    "**Analysis:** For our second chart, we compared the graduation years of students to whether they had a professional, casual, or lack of a headshot. We formed our own opinion on what we considered a headshot vs. a casual photo. This was done with the intention that a greater number of students graduating sooner would have more professional headshots and profiles. We decided to not use any “null” data for the graduation years because it would be unnecessary. The data collected shows that out of all the students that had a graduating year in their profile, the majority used a casual headshot as their picture. In addition to that, the class of 2026 was the only class that had what we considered to be professional headshots. "
   ]
  },
  {
   "cell_type": "markdown",
   "id": "18adf9a8",
   "metadata": {},
   "source": [
    "## Conclusion and Future Research\n",
    "\n",
    "With all of the data collected, organized, and displayed in our charts, our project was able to visualize the creativity and professionalism of the students’ profiles. After analyzing each Digital Studies students’ GitHub profiles to find the balance between major, emoji count, graduation year, and professional profile picture, we have found a positive trend in our data. In the first chart, the more creative majors had a greater amount of emojis in each student  profile; in the second chart, the only graduating year that had what we had determined to be professional headshots was the class of 2026. This does not mean that the project did not come without issues. One of the most notable issues was with our original theoretical model; after presenting our first draft, we realized the difficulty with displaying the data on a chart. Something else that could be tweaked for a more accurate representation would be our approach to the professional headshots; there were minimal regulations to what categorized it as being “professional” or “casual”. \n"
   ]
  }
 ],
 "metadata": {
  "kernelspec": {
   "display_name": "Python 3",
   "language": "python",
   "name": "python3"
  },
  "language_info": {
   "codemirror_mode": {
    "name": "ipython",
    "version": 3
   },
   "file_extension": ".py",
   "mimetype": "text/x-python",
   "name": "python",
   "nbconvert_exporter": "python",
   "pygments_lexer": "ipython3",
   "version": "3.13.7"
  }
 },
 "nbformat": 4,
 "nbformat_minor": 5
}
